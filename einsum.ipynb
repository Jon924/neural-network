{
 "cells": [
  {
   "cell_type": "code",
   "execution_count": 1,
   "metadata": {},
   "outputs": [],
   "source": [
    "import numpy as np"
   ]
  },
  {
   "attachments": {},
   "cell_type": "markdown",
   "metadata": {},
   "source": [
    "\n",
    "### Trace off 5x5 matrix"
   ]
  },
  {
   "cell_type": "code",
   "execution_count": 52,
   "metadata": {},
   "outputs": [
    {
     "data": {
      "text/plain": [
       "True"
      ]
     },
     "execution_count": 52,
     "metadata": {},
     "output_type": "execute_result"
    }
   ],
   "source": [
    "np.random.seed(420)\n",
    "A = np.random.rand(5,5)\n",
    "trace = np.trace(A)\n",
    "np.einsum(\"ii\", A) == trace"
   ]
  },
  {
   "attachments": {},
   "cell_type": "markdown",
   "metadata": {},
   "source": [
    "\n",
    "### matmul off 5x5 matrix and 5x1 vector"
   ]
  },
  {
   "cell_type": "code",
   "execution_count": 45,
   "metadata": {},
   "outputs": [
    {
     "data": {
      "text/plain": [
       "array([0.58218068, 0.89356058, 0.41321594, 0.70373773, 0.83772429])"
      ]
     },
     "execution_count": 45,
     "metadata": {},
     "output_type": "execute_result"
    }
   ],
   "source": [
    "np.random.seed(420)\n",
    "A = np.random.rand(5,5)\n",
    "b = np.random.rand(5)\n",
    "correct = np.matmul(A, b)\n",
    "correct"
   ]
  },
  {
   "cell_type": "code",
   "execution_count": 51,
   "metadata": {},
   "outputs": [
    {
     "name": "stdout",
     "output_type": "stream",
     "text": [
      "[0.58218068 0.89356058 0.41321594 0.70373773 0.83772429]\n"
     ]
    },
    {
     "data": {
      "text/plain": [
       "True"
      ]
     },
     "execution_count": 51,
     "metadata": {},
     "output_type": "execute_result"
    }
   ],
   "source": [
    "ein = np.einsum(\"ji,i\", A, b)\n",
    "print(ein)\n",
    "np.allclose(ein, correct)"
   ]
  },
  {
   "attachments": {},
   "cell_type": "markdown",
   "metadata": {},
   "source": [
    "### Vector outer product"
   ]
  },
  {
   "cell_type": "code",
   "execution_count": 57,
   "metadata": {},
   "outputs": [
    {
     "name": "stdout",
     "output_type": "stream",
     "text": [
      "[[0.19877123 0.11127109 0.02131797 0.19770501 0.18896485]\n",
      " [0.28528634 0.15970179 0.0305966  0.28375603 0.27121173]\n",
      " [0.16812635 0.09411624 0.01803134 0.1672245  0.15983183]\n",
      " [0.06859518 0.03839922 0.00735675 0.06822723 0.06521104]\n",
      " [0.54670919 0.30604493 0.05863388 0.54377659 0.51973729]]\n"
     ]
    }
   ],
   "source": [
    "np.random.seed(420)\n",
    "a = np.random.rand(5)\n",
    "b = np.random.rand(5)\n",
    "correct = np.outer(a, b)\n",
    "print(correct)"
   ]
  },
  {
   "cell_type": "code",
   "execution_count": 58,
   "metadata": {},
   "outputs": [
    {
     "name": "stdout",
     "output_type": "stream",
     "text": [
      "[[0.19877123 0.11127109 0.02131797 0.19770501 0.18896485]\n",
      " [0.28528634 0.15970179 0.0305966  0.28375603 0.27121173]\n",
      " [0.16812635 0.09411624 0.01803134 0.1672245  0.15983183]\n",
      " [0.06859518 0.03839922 0.00735675 0.06822723 0.06521104]\n",
      " [0.54670919 0.30604493 0.05863388 0.54377659 0.51973729]]\n"
     ]
    },
    {
     "data": {
      "text/plain": [
       "True"
      ]
     },
     "execution_count": 58,
     "metadata": {},
     "output_type": "execute_result"
    }
   ],
   "source": [
    "ein = np.einsum('i,j->ij', a, b)\n",
    "print(ein)\n",
    "np.allclose(ein, correct)"
   ]
  }
 ],
 "metadata": {
  "kernelspec": {
   "display_name": "cs189sp23",
   "language": "python",
   "name": "python3"
  },
  "language_info": {
   "codemirror_mode": {
    "name": "ipython",
    "version": 3
   },
   "file_extension": ".py",
   "mimetype": "text/x-python",
   "name": "python",
   "nbconvert_exporter": "python",
   "pygments_lexer": "ipython3",
   "version": "3.8.5"
  },
  "orig_nbformat": 4
 },
 "nbformat": 4,
 "nbformat_minor": 2
}
